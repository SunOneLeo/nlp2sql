{
  "nbformat": 4,
  "nbformat_minor": 0,
  "metadata": {
    "colab": {
      "provenance": [],
      "mount_file_id": "https://github.com/SunOneLeo/nlp2sql/blob/main/nl2sql_web.ipynb",
      "authorship_tag": "ABX9TyMf4loi1Go/nWqCwIh0H+aH",
      "include_colab_link": true
    },
    "kernelspec": {
      "name": "python3",
      "display_name": "Python 3"
    },
    "language_info": {
      "name": "python"
    }
  },
  "cells": [
    {
      "cell_type": "markdown",
      "metadata": {
        "id": "view-in-github",
        "colab_type": "text"
      },
      "source": [
        "<a href=\"https://colab.research.google.com/github/SunOneLeo/nlp2sql/blob/main/nl2sql_web2.ipynb\" target=\"_parent\"><img src=\"https://colab.research.google.com/assets/colab-badge.svg\" alt=\"Open In Colab\"/></a>"
      ]
    },
    {
      "cell_type": "markdown",
      "source": [
        "# 准备环境"
      ],
      "metadata": {
        "id": "kSR-HHiETWye"
      }
    },
    {
      "cell_type": "markdown",
      "source": [
        "安装基础依赖"
      ],
      "metadata": {
        "id": "6KrGskbyTkF4"
      }
    },
    {
      "cell_type": "code",
      "source": [
        "!pip install gradio\n",
        "!pip install mdtex2html\n",
        "!pip install langchain\n",
        "!pip install openai"
      ],
      "metadata": {
        "id": "13Zruvr3mxFR"
      },
      "execution_count": null,
      "outputs": []
    },
    {
      "cell_type": "markdown",
      "source": [
        "挂载GoogleDrive，有自己的ak可以省略这一步"
      ],
      "metadata": {
        "id": "M3iegOcWTgGY"
      }
    },
    {
      "cell_type": "code",
      "source": [
        "from google.colab import drive\n",
        "from langchain import OpenAI, SQLDatabase, SQLDatabaseChain\n",
        "import os"
      ],
      "metadata": {
        "id": "APZxUR_CXhJ5"
      },
      "execution_count": null,
      "outputs": []
    },
    {
      "cell_type": "code",
      "source": [
        "drive.mount('/content/drive')"
      ],
      "metadata": {
        "id": "IcIW2RKDHZPU"
      },
      "execution_count": null,
      "outputs": []
    },
    {
      "cell_type": "markdown",
      "source": [
        "导入openKey"
      ],
      "metadata": {
        "id": "aUKZwlIpTsOr"
      }
    },
    {
      "cell_type": "code",
      "source": [
        "with open('/content/drive/MyDrive/openai/openai-key', 'r') as f:\n",
        "  api_key = f.read().strip()\n",
        "\n",
        "os.environ[\"OPENAI_API_KEY\"] = api_key"
      ],
      "metadata": {
        "id": "iIvywYDVR2gi"
      },
      "execution_count": null,
      "outputs": []
    },
    {
      "cell_type": "markdown",
      "source": [
        "加载数据库db文件"
      ],
      "metadata": {
        "id": "BirP6zamTvSz"
      }
    },
    {
      "cell_type": "code",
      "source": [
        "# 本地数据库\n",
        "# db = SQLDatabase.from_uri(\"sqlite:///Chinook.db\")\n",
        "\n",
        "# 从GoogleDrive导入\n",
        "db_path = '/content/drive/MyDrive/openai/Chinook.db'\n",
        "db = SQLDatabase.from_uri(f\"sqlite:///{db_path}\")\n",
        "\n",
        "# 打印，可以不做\n",
        "# print(db.table_info)\n"
      ],
      "metadata": {
        "id": "u6FGDahdS9bT"
      },
      "execution_count": null,
      "outputs": []
    },
    {
      "cell_type": "code",
      "source": [
        "#llm = OpenAI(temperature=0)\n",
        "llm = OpenAI(model_name='text-davinci-003')\n",
        "# db_chain = SQLDatabaseChain.from_llm(llm, db, verbose=True, use_query_checker=True)\n",
        "db_chain = SQLDatabaseChain.from_llm(llm, db, verbose=True)"
      ],
      "metadata": {
        "id": "oRbCqUssTHQY"
      },
      "execution_count": null,
      "outputs": []
    },
    {
      "cell_type": "markdown",
      "source": [
        "# 运行Web网页"
      ],
      "metadata": {
        "id": "kH6AxYAuT29w"
      }
    },
    {
      "cell_type": "code",
      "execution_count": null,
      "metadata": {
        "id": "k-n9GFSwcQ0z",
        "colab": {
          "base_uri": "https://localhost:8080/",
          "height": 648
        },
        "outputId": "1b157dd4-1cb5-4bc4-f528-5914b7f95ad9"
      },
      "outputs": [
        {
          "output_type": "stream",
          "name": "stderr",
          "text": [
            "<ipython-input-7-389b59924de0>:73: GradioDeprecationWarning: The `style` method is deprecated. Please set these arguments in the constructor instead.\n",
            "  user_input = gr.Textbox(show_label=False, placeholder=\"Input...\", lines=10).style(\n"
          ]
        },
        {
          "output_type": "stream",
          "name": "stdout",
          "text": [
            "Colab notebook detected. To show errors in colab notebook, set debug=True in launch()\n",
            "Running on public URL: https://0afcc9cf606f683842.gradio.live\n",
            "\n",
            "This share link expires in 72 hours. For free permanent hosting and GPU upgrades, run `gradio deploy` from Terminal to deploy to Spaces (https://huggingface.co/spaces)\n"
          ]
        },
        {
          "output_type": "display_data",
          "data": {
            "text/plain": [
              "<IPython.core.display.HTML object>"
            ],
            "text/html": [
              "<div><iframe src=\"https://0afcc9cf606f683842.gradio.live\" width=\"100%\" height=\"500\" allow=\"autoplay; camera; microphone; clipboard-read; clipboard-write;\" frameborder=\"0\" allowfullscreen></iframe></div>"
            ]
          },
          "metadata": {}
        },
        {
          "output_type": "execute_result",
          "data": {
            "text/plain": []
          },
          "metadata": {},
          "execution_count": 7
        }
      ],
      "source": [
        "import gradio as gr\n",
        "import mdtex2html\n",
        "\n",
        "\"\"\"Override Chatbot.postprocess\"\"\"\n",
        "def postprocess(self, y):\n",
        "    if y is None:\n",
        "        return []\n",
        "    for i, (message, response) in enumerate(y):\n",
        "        y[i] = (\n",
        "            None if message is None else mdtex2html.convert((message)),\n",
        "            None if response is None else mdtex2html.convert(response),\n",
        "        )\n",
        "    return y\n",
        "\n",
        "\n",
        "gr.Chatbot.postprocess = postprocess\n",
        "\n",
        "\n",
        "def parse_text(text):\n",
        "    \"\"\"copy from https://github.com/GaiZhenbiao/ChuanhuChatGPT/\"\"\"\n",
        "    lines = text.split(\"\\n\")\n",
        "    lines = [line for line in lines if line != \"\"]\n",
        "    count = 0\n",
        "    for i, line in enumerate(lines):\n",
        "        if \"```\" in line:\n",
        "            count += 1\n",
        "            items = line.split('`')\n",
        "            if count % 2 == 1:\n",
        "                lines[i] = f'<pre><code class=\"language-{items[-1]}\">'\n",
        "            else:\n",
        "                lines[i] = f'<br></code></pre>'\n",
        "        else:\n",
        "            if i > 0:\n",
        "                if count % 2 == 1:\n",
        "                    line = line.replace(\"`\", \"\\`\")\n",
        "                    line = line.replace(\"<\", \"&lt;\")\n",
        "                    line = line.replace(\">\", \"&gt;\")\n",
        "                    line = line.replace(\" \", \"&nbsp;\")\n",
        "                    line = line.replace(\"*\", \"&ast;\")\n",
        "                    line = line.replace(\"_\", \"&lowbar;\")\n",
        "                    line = line.replace(\"-\", \"&#45;\")\n",
        "                    line = line.replace(\".\", \"&#46;\")\n",
        "                    line = line.replace(\"!\", \"&#33;\")\n",
        "                    line = line.replace(\"(\", \"&#40;\")\n",
        "                    line = line.replace(\")\", \"&#41;\")\n",
        "                    line = line.replace(\"$\", \"&#36;\")\n",
        "                lines[i] = \"<br>\"+line\n",
        "    text = \"\".join(lines)\n",
        "    return text\n",
        "\n",
        "\n",
        "def predict(input, chatbot, max_length, top_p, temperature, history, past_key_values):\n",
        "    chatbot.append((parse_text(input), \"\"))\n",
        "    chatbot[-1] = (parse_text(input), parse_text(db_chain.run(input)))\n",
        "    yield chatbot, history, past_key_values\n",
        "\n",
        "\n",
        "def reset_user_input():\n",
        "    return gr.update(value='')\n",
        "\n",
        "\n",
        "def reset_state():\n",
        "    return [], [], None\n",
        "\n",
        "\n",
        "with gr.Blocks() as demo:\n",
        "    gr.HTML(\"\"\"<h1 align=\"center\">NLP2SQL</h1>\"\"\")\n",
        "\n",
        "    chatbot = gr.Chatbot()\n",
        "    with gr.Row():\n",
        "        with gr.Column(scale=4):\n",
        "            with gr.Column(scale=12):\n",
        "                user_input = gr.Textbox(show_label=False, placeholder=\"Input...\", lines=10).style(\n",
        "                    container=False)\n",
        "            with gr.Column(min_width=32, scale=1):\n",
        "                submitBtn = gr.Button(\"Submit\", variant=\"primary\")\n",
        "        with gr.Column(scale=1):\n",
        "            emptyBtn = gr.Button(\"Clear History\")\n",
        "            max_length = gr.Slider(0, 32768, value=8192, step=1.0, label=\"Maximum length\", interactive=True)\n",
        "            top_p = gr.Slider(0, 1, value=0.8, step=0.01, label=\"Top P\", interactive=True)\n",
        "            temperature = gr.Slider(0, 1, value=0.95, step=0.01, label=\"Temperature\", interactive=True)\n",
        "\n",
        "    history = gr.State([])\n",
        "    past_key_values = gr.State(None)\n",
        "\n",
        "    submitBtn.click(predict, [user_input, chatbot, max_length, top_p, temperature, history, past_key_values],\n",
        "                    [chatbot, history, past_key_values], show_progress=True)\n",
        "\n",
        "    submitBtn.click(reset_user_input, [], [user_input])\n",
        "\n",
        "    emptyBtn.click(reset_state, outputs=[chatbot, history, past_key_values], show_progress=True)\n",
        "\n",
        "demo.queue().launch(share=True, inbrowser=True)\n"
      ]
    }
  ]
}